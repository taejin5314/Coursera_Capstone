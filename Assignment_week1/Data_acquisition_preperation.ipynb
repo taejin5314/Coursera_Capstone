{
 "cells": [
  {
   "cell_type": "markdown",
   "metadata": {},
   "source": [
    "## Data Acquisition and Cleaning"
   ]
  },
  {
   "cell_type": "markdown",
   "metadata": {},
   "source": [
    "Based on definition of our problem, factors below will be considered.\n",
    "\n",
    "- number of existing restaurants in the neighborhood (any type of restaurant)\n",
    "- number of Korean restaurants and the distance in the neighborhood\n",
    "- distance of neighborhood from popular neighborhoods"
   ]
  },
  {
   "cell_type": "markdown",
   "metadata": {},
   "source": [
    "Therefor, in this project, I will:\n",
    "\n",
    "- use the dataset that contains names and boroughs of the neighborhoods in Toronto that we used in the last assignment.\n",
    "- After I got the names of all the neighborhoods of Toronto, I will merge latitude and longitude dataset that was provided in the last assignment.\n",
    "- Next, I will use the foursquare API to find all types of restaurants within a 1000 meters radius for every neighborhood."
   ]
  }
 ],
 "metadata": {
  "kernelspec": {
   "display_name": "Python 3",
   "language": "python",
   "name": "python3"
  },
  "language_info": {
   "codemirror_mode": {
    "name": "ipython",
    "version": 3
   },
   "file_extension": ".py",
   "mimetype": "text/x-python",
   "name": "python",
   "nbconvert_exporter": "python",
   "pygments_lexer": "ipython3",
   "version": "3.7.3"
  }
 },
 "nbformat": 4,
 "nbformat_minor": 4
}
