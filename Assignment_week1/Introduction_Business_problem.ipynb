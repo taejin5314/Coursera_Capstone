{
 "cells": [
  {
   "cell_type": "markdown",
   "metadata": {},
   "source": [
    "## 1. Inroduction"
   ]
  },
  {
   "cell_type": "markdown",
   "metadata": {},
   "source": [
    "### Background and business problem"
   ]
  },
  {
   "cell_type": "markdown",
   "metadata": {},
   "source": [
    "In this project, I will define where is an optimal location for a restaurant. This report will be targeted to stakeholders who are interested in opening a Korean restaurant in Toronto, Canada. Various factors such as demand, type of restaurant would affect the success or failure of the restaurant. Therefore, descriptive and predictive capabilities of data science is necessary."
   ]
  },
  {
   "cell_type": "markdown",
   "metadata": {},
   "source": [
    "We need to find locations (and neighborhood) of unfulfilled demand for Korean cuisine. Also, we need to determine the location that have low competition and not overly crowded. We would alson consider whether the location is close to popular city neighborhood."
   ]
  },
  {
   "cell_type": "markdown",
   "metadata": {},
   "source": [
    "By using some data science technique, this project will figure out which location is the best place to start a restaurant. The final location can be chosen by stakeholders."
   ]
  }
 ],
 "metadata": {
  "kernelspec": {
   "display_name": "Python 3",
   "language": "python",
   "name": "python3"
  },
  "language_info": {
   "codemirror_mode": {
    "name": "ipython",
    "version": 3
   },
   "file_extension": ".py",
   "mimetype": "text/x-python",
   "name": "python",
   "nbconvert_exporter": "python",
   "pygments_lexer": "ipython3",
   "version": "3.7.3"
  }
 },
 "nbformat": 4,
 "nbformat_minor": 4
}
